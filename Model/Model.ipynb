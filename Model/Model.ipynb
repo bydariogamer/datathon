{
 "cells": [
  {
   "cell_type": "markdown",
   "metadata": {},
   "source": [
    "#### Datathon 2022 - EPI Gijón"
   ]
  },
  {
   "cell_type": "code",
   "execution_count": 64,
   "metadata": {},
   "outputs": [],
   "source": [
    "## Imports\n",
    "\n",
    "import numpy as np\n",
    "import pandas as pd\n",
    "import matplotlib.pyplot as plt\n",
    "import seaborn as sns"
   ]
  },
  {
   "cell_type": "code",
   "execution_count": 65,
   "metadata": {},
   "outputs": [],
   "source": [
    "## Parsing CSV data\n",
    "\n",
    "df_amazon = pd.read_csv('data/Amazon.csv')\n",
    "df_Email = pd.read_csv('data/Email.csv')\n",
    "df_Facebook = pd.read_csv('data/Facebook.csv')\n",
    "df_Google = pd.read_csv('data/Google.csv')\n",
    "df_Instagram = pd.read_csv('data/Instagram.csv')\n",
    "df_Radio = pd.read_csv('data/Radio.csv')\n",
    "df_TV = pd.read_csv('data/TV.csv')\n",
    "df_Youtube = pd.read_csv('data/Youtube.csv')\n"
   ]
  },
  {
   "cell_type": "code",
   "execution_count": 66,
   "metadata": {},
   "outputs": [
    {
     "data": {
      "text/html": [
       "<div>\n",
       "<style scoped>\n",
       "    .dataframe tbody tr th:only-of-type {\n",
       "        vertical-align: middle;\n",
       "    }\n",
       "\n",
       "    .dataframe tbody tr th {\n",
       "        vertical-align: top;\n",
       "    }\n",
       "\n",
       "    .dataframe thead th {\n",
       "        text-align: right;\n",
       "    }\n",
       "</style>\n",
       "<table border=\"1\" class=\"dataframe\">\n",
       "  <thead>\n",
       "    <tr style=\"text-align: right;\">\n",
       "      <th></th>\n",
       "      <th>Date</th>\n",
       "      <th>Facebook</th>\n",
       "    </tr>\n",
       "  </thead>\n",
       "  <tbody>\n",
       "    <tr>\n",
       "      <th>0</th>\n",
       "      <td>01-03-20</td>\n",
       "      <td>0.00</td>\n",
       "    </tr>\n",
       "    <tr>\n",
       "      <th>1</th>\n",
       "      <td>01-04-20</td>\n",
       "      <td>73571.23</td>\n",
       "    </tr>\n",
       "    <tr>\n",
       "      <th>2</th>\n",
       "      <td>01-05-20</td>\n",
       "      <td>0.00</td>\n",
       "    </tr>\n",
       "    <tr>\n",
       "      <th>3</th>\n",
       "      <td>01-06-20</td>\n",
       "      <td>0.00</td>\n",
       "    </tr>\n",
       "    <tr>\n",
       "      <th>4</th>\n",
       "      <td>01-07-20</td>\n",
       "      <td>0.00</td>\n",
       "    </tr>\n",
       "    <tr>\n",
       "      <th>5</th>\n",
       "      <td>01-08-20</td>\n",
       "      <td>0.00</td>\n",
       "    </tr>\n",
       "    <tr>\n",
       "      <th>6</th>\n",
       "      <td>01-09-20</td>\n",
       "      <td>0.00</td>\n",
       "    </tr>\n",
       "    <tr>\n",
       "      <th>7</th>\n",
       "      <td>01-10-20</td>\n",
       "      <td>0.00</td>\n",
       "    </tr>\n",
       "    <tr>\n",
       "      <th>8</th>\n",
       "      <td>01-11-20</td>\n",
       "      <td>0.00</td>\n",
       "    </tr>\n",
       "    <tr>\n",
       "      <th>9</th>\n",
       "      <td>01-12-20</td>\n",
       "      <td>0.00</td>\n",
       "    </tr>\n",
       "  </tbody>\n",
       "</table>\n",
       "</div>"
      ],
      "text/plain": [
       "       Date  Facebook\n",
       "0  01-03-20      0.00\n",
       "1  01-04-20  73571.23\n",
       "2  01-05-20      0.00\n",
       "3  01-06-20      0.00\n",
       "4  01-07-20      0.00\n",
       "5  01-08-20      0.00\n",
       "6  01-09-20      0.00\n",
       "7  01-10-20      0.00\n",
       "8  01-11-20      0.00\n",
       "9  01-12-20      0.00"
      ]
     },
     "execution_count": 66,
     "metadata": {},
     "output_type": "execute_result"
    }
   ],
   "source": [
    "# Sumar quincenas de Faceboook\n",
    "\n",
    "df_Facebook['Facebook'] = df_Facebook['Facebook 1 quincena'] + df_Facebook['Facebook 2 quincena']\n",
    "\n",
    "df_Facebook.drop(columns='Facebook 1 quincena', inplace=True)\n",
    "df_Facebook.drop(columns='Facebook 2 quincena', inplace=True)\n",
    "df_Facebook.head(10)"
   ]
  },
  {
   "cell_type": "code",
   "execution_count": 76,
   "metadata": {},
   "outputs": [
    {
     "ename": "SyntaxError",
     "evalue": "invalid syntax (2465046629.py, line 7)",
     "output_type": "error",
     "traceback": [
      "\u001b[1;36m  Input \u001b[1;32mIn [76]\u001b[1;36m\u001b[0m\n\u001b[1;33m    df['Email'] = df_Email.loc[columns='Email']\u001b[0m\n\u001b[1;37m                                      ^\u001b[0m\n\u001b[1;31mSyntaxError\u001b[0m\u001b[1;31m:\u001b[0m invalid syntax\n"
     ]
    }
   ],
   "source": [
    "# Crear un dataframe con todas las columnas\n",
    "from copy import copy\n",
    "\n",
    "\n",
    "\n",
    "df = copy(df_amazon)\n",
    "df['Email'] = df_Email['Email']\n",
    "df.head(10)"
   ]
  }
 ],
 "metadata": {
  "interpreter": {
   "hash": "68e061ebbe46e8eaff35bcb2c6a583a9b22f01e301a3af98216598aa14994667"
  },
  "kernelspec": {
   "display_name": "Python 3.9.10 64-bit (windows store)",
   "language": "python",
   "name": "python3"
  },
  "language_info": {
   "codemirror_mode": {
    "name": "ipython",
    "version": 3
   },
   "file_extension": ".py",
   "mimetype": "text/x-python",
   "name": "python",
   "nbconvert_exporter": "python",
   "pygments_lexer": "ipython3",
   "version": "3.9.10"
  },
  "orig_nbformat": 4
 },
 "nbformat": 4,
 "nbformat_minor": 2
}
