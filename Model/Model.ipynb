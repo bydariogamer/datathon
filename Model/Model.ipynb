{
 "cells": [
  {
   "cell_type": "markdown",
   "metadata": {},
   "source": [
    "#### Datathon 2022 - EPI Gijón"
   ]
  },
  {
   "cell_type": "code",
   "execution_count": 115,
   "metadata": {},
   "outputs": [],
   "source": [
    "## Imports\n",
    "\n",
    "import numpy as np\n",
    "import pandas as pd\n",
    "import matplotlib.pyplot as plt\n",
    "import seaborn as sns"
   ]
  },
  {
   "cell_type": "code",
   "execution_count": 116,
   "metadata": {},
   "outputs": [],
   "source": [
    "## Parsing CSV data\n",
    "\n",
    "df_amazon = pd.read_csv('data/Amazon.csv')\n",
    "df_Email = pd.read_csv('data/Email.csv')\n",
    "df_Facebook = pd.read_csv('data/Facebook.csv')\n",
    "df_Google = pd.read_csv('data/Google.csv')\n",
    "df_Instagram = pd.read_csv('data/Instagram.csv')\n",
    "df_Radio = pd.read_csv('data/Radio.csv')\n",
    "df_TV = pd.read_csv('data/TV.csv')\n",
    "df_Youtube = pd.read_csv('data/Youtube.csv')\n",
    "df_Tiktok = pd.read_csv('data/TikTok.csv')\n",
    "df_Ventas = pd.read_csv('data/Ventas.CSV')\n",
    "\n"
   ]
  },
  {
   "cell_type": "code",
   "execution_count": 117,
   "metadata": {},
   "outputs": [
    {
     "data": {
      "text/html": [
       "<div>\n",
       "<style scoped>\n",
       "    .dataframe tbody tr th:only-of-type {\n",
       "        vertical-align: middle;\n",
       "    }\n",
       "\n",
       "    .dataframe tbody tr th {\n",
       "        vertical-align: top;\n",
       "    }\n",
       "\n",
       "    .dataframe thead th {\n",
       "        text-align: right;\n",
       "    }\n",
       "</style>\n",
       "<table border=\"1\" class=\"dataframe\">\n",
       "  <thead>\n",
       "    <tr style=\"text-align: right;\">\n",
       "      <th></th>\n",
       "      <th>Date</th>\n",
       "      <th>Facebook</th>\n",
       "    </tr>\n",
       "  </thead>\n",
       "  <tbody>\n",
       "    <tr>\n",
       "      <th>0</th>\n",
       "      <td>01-03-20</td>\n",
       "      <td>0.00</td>\n",
       "    </tr>\n",
       "    <tr>\n",
       "      <th>1</th>\n",
       "      <td>01-04-20</td>\n",
       "      <td>73571.23</td>\n",
       "    </tr>\n",
       "    <tr>\n",
       "      <th>2</th>\n",
       "      <td>01-05-20</td>\n",
       "      <td>0.00</td>\n",
       "    </tr>\n",
       "    <tr>\n",
       "      <th>3</th>\n",
       "      <td>01-06-20</td>\n",
       "      <td>0.00</td>\n",
       "    </tr>\n",
       "    <tr>\n",
       "      <th>4</th>\n",
       "      <td>01-07-20</td>\n",
       "      <td>0.00</td>\n",
       "    </tr>\n",
       "    <tr>\n",
       "      <th>5</th>\n",
       "      <td>01-08-20</td>\n",
       "      <td>0.00</td>\n",
       "    </tr>\n",
       "    <tr>\n",
       "      <th>6</th>\n",
       "      <td>01-09-20</td>\n",
       "      <td>0.00</td>\n",
       "    </tr>\n",
       "    <tr>\n",
       "      <th>7</th>\n",
       "      <td>01-10-20</td>\n",
       "      <td>0.00</td>\n",
       "    </tr>\n",
       "    <tr>\n",
       "      <th>8</th>\n",
       "      <td>01-11-20</td>\n",
       "      <td>0.00</td>\n",
       "    </tr>\n",
       "    <tr>\n",
       "      <th>9</th>\n",
       "      <td>01-12-20</td>\n",
       "      <td>0.00</td>\n",
       "    </tr>\n",
       "  </tbody>\n",
       "</table>\n",
       "</div>"
      ],
      "text/plain": [
       "       Date  Facebook\n",
       "0  01-03-20      0.00\n",
       "1  01-04-20  73571.23\n",
       "2  01-05-20      0.00\n",
       "3  01-06-20      0.00\n",
       "4  01-07-20      0.00\n",
       "5  01-08-20      0.00\n",
       "6  01-09-20      0.00\n",
       "7  01-10-20      0.00\n",
       "8  01-11-20      0.00\n",
       "9  01-12-20      0.00"
      ]
     },
     "execution_count": 117,
     "metadata": {},
     "output_type": "execute_result"
    }
   ],
   "source": [
    "# Sumar quincenas de Faceboook\n",
    "\n",
    "df_Facebook['Facebook'] = df_Facebook['Facebook 1 quincena'] + df_Facebook['Facebook 2 quincena']\n",
    "\n",
    "df_Facebook.drop(columns='Facebook 1 quincena', inplace=True)\n",
    "df_Facebook.drop(columns='Facebook 2 quincena', inplace=True)\n",
    "df_Facebook.head(10)"
   ]
  },
  {
   "cell_type": "code",
   "execution_count": 118,
   "metadata": {},
   "outputs": [],
   "source": [
    "## Join the data in a single dataframe\n",
    "\n",
    "df = df_Email.merge(df_amazon)\n",
    "df = df.merge(df_Facebook)\n",
    "df = df.merge(df_Google)\n",
    "df = df.merge(df_Instagram)\n",
    "df = df.merge(df_Radio)\n",
    "df = df.merge(df_TV)\n",
    "df = df.merge(df_Youtube)\n",
    "df = df.merge(df_Tiktok)\n",
    "df = df.merge(df_Ventas)\n"
   ]
  },
  {
   "cell_type": "code",
   "execution_count": 119,
   "metadata": {},
   "outputs": [],
   "source": [
    "# df.drop(columns='Email', inplace=True)\n",
    "# df.drop(columns='Facebook', inplace=True)\n",
    "# df.drop(columns='Radio', inplace=True)"
   ]
  },
  {
   "cell_type": "code",
   "execution_count": 120,
   "metadata": {},
   "outputs": [
    {
     "data": {
      "text/html": [
       "<div>\n",
       "<style scoped>\n",
       "    .dataframe tbody tr th:only-of-type {\n",
       "        vertical-align: middle;\n",
       "    }\n",
       "\n",
       "    .dataframe tbody tr th {\n",
       "        vertical-align: top;\n",
       "    }\n",
       "\n",
       "    .dataframe thead th {\n",
       "        text-align: right;\n",
       "    }\n",
       "</style>\n",
       "<table border=\"1\" class=\"dataframe\">\n",
       "  <thead>\n",
       "    <tr style=\"text-align: right;\">\n",
       "      <th></th>\n",
       "      <th>Email</th>\n",
       "      <th>Amazon</th>\n",
       "      <th>Facebook</th>\n",
       "      <th>Google</th>\n",
       "      <th>Instagram</th>\n",
       "      <th>Radio</th>\n",
       "      <th>TV</th>\n",
       "      <th>Youtube</th>\n",
       "      <th>Tik_Tok</th>\n",
       "      <th>Ventas_Videojuegos</th>\n",
       "    </tr>\n",
       "  </thead>\n",
       "  <tbody>\n",
       "    <tr>\n",
       "      <th>0</th>\n",
       "      <td>9816.14</td>\n",
       "      <td>3408.66</td>\n",
       "      <td>0.0</td>\n",
       "      <td>87651.96</td>\n",
       "      <td>51433.0</td>\n",
       "      <td>54323.04</td>\n",
       "      <td>192879.88</td>\n",
       "      <td>26351.22</td>\n",
       "      <td>0.0</td>\n",
       "      <td>54674.0</td>\n",
       "    </tr>\n",
       "  </tbody>\n",
       "</table>\n",
       "</div>"
      ],
      "text/plain": [
       "     Email   Amazon  Facebook    Google  Instagram     Radio         TV  \\\n",
       "0  9816.14  3408.66       0.0  87651.96    51433.0  54323.04  192879.88   \n",
       "\n",
       "    Youtube  Tik_Tok  Ventas_Videojuegos  \n",
       "0  26351.22      0.0             54674.0  "
      ]
     },
     "execution_count": 120,
     "metadata": {},
     "output_type": "execute_result"
    }
   ],
   "source": [
    "df.drop(columns='Date', inplace=True)\n",
    "df.head(1)"
   ]
  },
  {
   "cell_type": "code",
   "execution_count": 121,
   "metadata": {},
   "outputs": [
    {
     "data": {
      "text/plain": [
       "<AxesSubplot:title={'center':'Ventas cada mes'}>"
      ]
     },
     "execution_count": 121,
     "metadata": {},
     "output_type": "execute_result"
    },
    {
     "data": {
      "image/png": "[encoded data removed]",
      "text/plain": [
       "<Figure size 864x432 with 1 Axes>"
      ]
     },
     "metadata": {
      "needs_background": "light"
     },
     "output_type": "display_data"
    }
   ],
   "source": [
    "## Visualize data\n",
    "# from pandas.plotting import scatter_matrix\n",
    "# cols = ['Email', 'Amazon', 'Facebook', 'Google',\n",
    "#         'Instagram', 'Radio', 'TV', 'Youtube', 'Tik_Tok']\n",
    "\n",
    "# ax = scatter_matrix(df[cols],\n",
    "#                     diagonal='kde',\n",
    "#                     figsize=(12, 12))\n",
    "# df['sum'] = df[cols].sum(axis=1)\n",
    "\n",
    "df['Ventas_Videojuegos'].plot(kind='line', color='purple', linewidth=2, title='Ventas cada mes', figsize=(12, 6))"
   ]
  },
  {
   "cell_type": "code",
   "execution_count": 122,
   "metadata": {},
   "outputs": [],
   "source": [
    "# df.plot(kind='scatter', x='sum', y='Ventas_Videojuegos')"
   ]
  },
  {
   "cell_type": "code",
   "execution_count": 123,
   "metadata": {},
   "outputs": [
    {
     "data": {
      "text/plain": [
       "(23, 10)"
      ]
     },
     "execution_count": 123,
     "metadata": {},
     "output_type": "execute_result"
    }
   ],
   "source": [
    "df.shape"
   ]
  },
  {
   "cell_type": "code",
   "execution_count": 124,
   "metadata": {},
   "outputs": [
    {
     "data": {
      "text/plain": [
       "Email                 0.000000\n",
       "Amazon                0.000000\n",
       "Facebook              0.000000\n",
       "Google                0.000000\n",
       "Instagram             0.000000\n",
       "Radio                 0.000000\n",
       "TV                    0.000000\n",
       "Youtube               0.000000\n",
       "Tik_Tok               0.000000\n",
       "Ventas_Videojuegos    0.043478\n",
       "dtype: float64"
      ]
     },
     "execution_count": 124,
     "metadata": {},
     "output_type": "execute_result"
    }
   ],
   "source": [
    "df.isna().mean()"
   ]
  },
  {
   "cell_type": "code",
   "execution_count": 125,
   "metadata": {},
   "outputs": [
    {
     "data": {
      "image/png": "[encoded data removed]",
      "text/plain": [
       "<Figure size 648x648 with 2 Axes>"
      ]
     },
     "metadata": {
      "needs_background": "light"
     },
     "output_type": "display_data"
    }
   ],
   "source": [
    "plt.figure(figsize=(9, 9))\n",
    "ax = sns.heatmap(df.corr(), center=0, cmap=\"viridis\", annot=True)\n"
   ]
  },
  {
   "cell_type": "code",
   "execution_count": 126,
   "metadata": {},
   "outputs": [
    {
     "data": {
      "text/plain": [
       "Amazon        39008.14\n",
       "Facebook          0.00\n",
       "Google        38854.81\n",
       "Instagram     27654.25\n",
       "Radio             0.00\n",
       "TV           244198.43\n",
       "Youtube       24184.21\n",
       "Tik_Tok        9528.75\n",
       "Name: 22, dtype: float64"
      ]
     },
     "execution_count": 126,
     "metadata": {},
     "output_type": "execute_result"
    }
   ],
   "source": [
    "## Extract the prediction data from df\n",
    "\n",
    "df_prediction_X = df.iloc[-1,1:-1]\n",
    "df_prediction_X"
   ]
  },
  {
   "cell_type": "code",
   "execution_count": 127,
   "metadata": {},
   "outputs": [],
   "source": [
    "## UP-SAMPLE\n",
    "\n",
    "from sklearn.utils import resample\n",
    "\n",
    "df_minority = df.drop([df.index[-1]])\n",
    "df_upsampled = resample(df_minority, replace=True, n_samples=100, random_state=123)"
   ]
  },
  {
   "cell_type": "code",
   "execution_count": 128,
   "metadata": {},
   "outputs": [],
   "source": [
    "## Separate Input from Output\n",
    "\n",
    "X = df.iloc[:-1,1:-1]\n",
    "y = df.iloc[:-1,-1] \n",
    "\n",
    "#X = df_upsampled.iloc[:-1,1:-1]\n",
    "#y = df_upsampled.iloc[:-1,-1]"
   ]
  },
  {
   "cell_type": "code",
   "execution_count": 129,
   "metadata": {},
   "outputs": [],
   "source": [
    "## Standardization\n",
    "\n",
    "from sklearn.preprocessing import StandardScaler\n",
    "\n",
    "X = StandardScaler().fit_transform(X)"
   ]
  },
  {
   "cell_type": "code",
   "execution_count": 130,
   "metadata": {},
   "outputs": [
    {
     "data": {
      "text/plain": [
       "(1, 8)"
      ]
     },
     "execution_count": 130,
     "metadata": {},
     "output_type": "execute_result"
    }
   ],
   "source": [
    "## Train and test splits\n",
    "\n",
    "from sklearn.model_selection import train_test_split\n",
    "\n",
    "X_train, X_test, y_train, y_test = train_test_split(X, y, test_size=0.01, random_state=123)\n",
    "\n",
    "X_test.shape"
   ]
  },
  {
   "cell_type": "code",
   "execution_count": 131,
   "metadata": {},
   "outputs": [],
   "source": [
    "# # First model\n",
    "\n",
    "# from sklearn.linear_model import LogisticRegression\n",
    "\n",
    "# # Create the model\n",
    "# clf = LogisticRegression(random_state=123, max_iter=1000)\n",
    "\n",
    "# # Train the model\n",
    "# clf.fit(X_test, y_test)\n",
    "\n",
    "\n",
    "# ## Evaluate the model\n",
    "# # Get predictions\n",
    "# y_pred = clf.predict(X_test)"
   ]
  },
  {
   "cell_type": "code",
   "execution_count": 132,
   "metadata": {},
   "outputs": [],
   "source": [
    "# Second model\n",
    "\n",
    "# from sklearn.svm import LinearSVC\n",
    "\n",
    "# # Create the model\n",
    "# clf = LinearSVC(random_state=123, max_iter=1000)\n",
    "\n",
    "# # Train the model\n",
    "# clf.fit(X_train, y_train)\n",
    "\n",
    "\n",
    "# ## Evaluate the model\n",
    "# # Get predictions\n",
    "# y_pred = clf.predict(X_test)"
   ]
  },
  {
   "cell_type": "code",
   "execution_count": 141,
   "metadata": {},
   "outputs": [
    {
     "name": "stdout",
     "output_type": "stream",
     "text": [
      "1.0\n"
     ]
    }
   ],
   "source": [
    "##Third model\n",
    "\n",
    "from sklearn.linear_model import Lasso\n",
    "from sklearn.metrics import r2_score\n",
    "\n",
    "# Create the model\n",
    "clf = Lasso(random_state=123, max_iter=1000, alpha=.01)\n",
    "\n",
    "# Train the model\n",
    "clf.fit(X_train, y_train)\n",
    "\n",
    "# Evaluate the model\n",
    "# Get predictions\n",
    "y_pred = clf.predict(X_test)"
   ]
  },
  {
   "cell_type": "code",
   "execution_count": 134,
   "metadata": {},
   "outputs": [],
   "source": [
    "# # Fourth model\n",
    "\n",
    "# from sklearn.linear_model import Ridge\n",
    "\n",
    "# # Create the model\n",
    "# clf = Ridge(alpha=.5)\n",
    "\n",
    "# # Train the model\n",
    "# clf.fit(X_test, y_test)\n",
    "\n",
    "\n",
    "# ## Evaluate the model\n",
    "# # Get predictions\n",
    "# y_pred = clf.predict(X_test)"
   ]
  },
  {
   "cell_type": "code",
   "execution_count": 135,
   "metadata": {},
   "outputs": [
    {
     "name": "stdout",
     "output_type": "stream",
     "text": [
      "Predicted value: [36527.45075032]\n",
      "Real value: 4    33185.0\n",
      "Name: Ventas_Videojuegos, dtype: float64\n"
     ]
    }
   ],
   "source": [
    "print(f'Predicted value: {y_pred}')\n",
    "print(f'Real value: {y_test}')\n"
   ]
  },
  {
   "cell_type": "code",
   "execution_count": 136,
   "metadata": {},
   "outputs": [],
   "source": [
    "X_to_predict = df_prediction_X.to_numpy()\n",
    "X_to_predict = X_to_predict.reshape((1, len(X_to_predict)))"
   ]
  },
  {
   "cell_type": "code",
   "execution_count": 137,
   "metadata": {},
   "outputs": [],
   "source": [
    "X_to_predict = StandardScaler().fit_transform(X_to_predict)"
   ]
  },
  {
   "cell_type": "code",
   "execution_count": 138,
   "metadata": {},
   "outputs": [
    {
     "name": "stdout",
     "output_type": "stream",
     "text": [
      "Our prediction: 38147.20230683259\n"
     ]
    }
   ],
   "source": [
    "y_predicted = clf.predict(X_to_predict)\n",
    "print(f'Our prediction: {y_predicted[0]}')"
   ]
  }
 ],
 "metadata": {
  "interpreter": {
   "hash": "68e061ebbe46e8eaff35bcb2c6a583a9b22f01e301a3af98216598aa14994667"
  },
  "kernelspec": {
   "display_name": "Python 3.9.10 64-bit (windows store)",
   "language": "python",
   "name": "python3"
  },
  "language_info": {
   "codemirror_mode": {
    "name": "ipython",
    "version": 3
   },
   "file_extension": ".py",
   "mimetype": "text/x-python",
   "name": "python",
   "nbconvert_exporter": "python",
   "pygments_lexer": "ipython3",
   "version": "3.9.10"
  },
  "orig_nbformat": 4
 },
 "nbformat": 4,
 "nbformat_minor": 2
}
